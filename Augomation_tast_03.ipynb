{
 "cells": [
  {
   "cell_type": "code",
   "execution_count": 1,
   "id": "a38c1c5f",
   "metadata": {},
   "outputs": [],
   "source": [
    "import numpy as np\n",
    "import pandas as pd\n",
    "import plotly.graph_objs as go\n",
    "import seaborn as sns\n",
    "import matplotlib.pyplot as plt"
   ]
  },
  {
   "cell_type": "code",
   "execution_count": 2,
   "id": "531246c6",
   "metadata": {},
   "outputs": [],
   "source": [
    "from pandas_datareader import data,wb"
   ]
  },
  {
   "cell_type": "code",
   "execution_count": 3,
   "id": "9c2e7886",
   "metadata": {},
   "outputs": [],
   "source": [
    "from datetime import date"
   ]
  },
  {
   "cell_type": "code",
   "execution_count": 4,
   "id": "fd9a4804",
   "metadata": {},
   "outputs": [],
   "source": [
    "startdate = pd.to_datetime('2021-01-01')\n",
    "enddate = pd.to_datetime(date.today())  # วันปัจจุบัน"
   ]
  },
  {
   "cell_type": "code",
   "execution_count": 5,
   "id": "f1464427",
   "metadata": {},
   "outputs": [],
   "source": [
    "df = data.DataReader(\"fb\", 'yahoo', startdate, enddate)"
   ]
  },
  {
   "cell_type": "code",
   "execution_count": 6,
   "id": "fa1aa26d",
   "metadata": {},
   "outputs": [
    {
     "name": "stdout",
     "output_type": "stream",
     "text": [
      "                  High         Low        Open       Close    Volume  \\\n",
      "Date                                                                   \n",
      "2020-12-31  277.089996  269.809998  272.000000  273.160004  12900400   \n",
      "2021-01-04  275.000000  265.200012  274.779999  268.940002  15106100   \n",
      "2021-01-05  272.399994  268.209991  268.290009  270.970001   9871600   \n",
      "2021-01-06  267.750000  260.010010  262.000000  263.309998  24354100   \n",
      "2021-01-07  271.609985  264.779999  265.899994  268.739990  15789800   \n",
      "...                ...         ...         ...         ...       ...   \n",
      "2021-12-17  337.109985  330.750000  332.799988  333.790009  39711700   \n",
      "2021-12-20  329.899994  322.529999  329.779999  325.450012  17901800   \n",
      "2021-12-21  336.000000  323.750000  326.410004  334.200012  16116800   \n",
      "2021-12-22  334.510010  328.260010  333.799988  330.450012  16764600   \n",
      "2021-12-23  336.670013  328.399994  330.100006  335.239990  13715474   \n",
      "\n",
      "             Adj Close  \n",
      "Date                    \n",
      "2020-12-31  273.160004  \n",
      "2021-01-04  268.940002  \n",
      "2021-01-05  270.970001  \n",
      "2021-01-06  263.309998  \n",
      "2021-01-07  268.739990  \n",
      "...                ...  \n",
      "2021-12-17  333.790009  \n",
      "2021-12-20  325.450012  \n",
      "2021-12-21  334.200012  \n",
      "2021-12-22  330.450012  \n",
      "2021-12-23  335.239990  \n",
      "\n",
      "[248 rows x 6 columns]\n"
     ]
    }
   ],
   "source": [
    "print (df)"
   ]
  },
  {
   "cell_type": "code",
   "execution_count": 7,
   "id": "2c39a32c",
   "metadata": {},
   "outputs": [
    {
     "data": {
      "image/png": "[encoded data removed]",
      "text/plain": [
       "<Figure size 432x288 with 1 Axes>"
      ]
     },
     "metadata": {
      "needs_background": "light"
     },
     "output_type": "display_data"
    }
   ],
   "source": [
    "sns.lineplot(x=df.index, y='Adj Close', data=df);"
   ]
  },
  {
   "cell_type": "code",
   "execution_count": 8,
   "id": "728767e7",
   "metadata": {},
   "outputs": [
    {
     "name": "stdout",
     "output_type": "stream",
     "text": [
      "วันที่มูลค่าหุ้นลงไปต้ำที่สุด คือวันที่ : 2021-01-14 00:00:00 ---> ที่ราคา : 244.61000061035156\n"
     ]
    }
   ],
   "source": [
    "D = df.index\n",
    "L =df['Low']\n",
    "Min = min(L)\n",
    "for i in range(len(L)):\n",
    "    if Min == L[i]:\n",
    "        print (\"วันที่มูลค่าหุ้นลงไปต้ำที่สุด คือวันที่ :\",D[i],\"---> ที่ราคา :\",L[i])"
   ]
  },
  {
   "cell_type": "code",
   "execution_count": 9,
   "id": "7f3f1b9b",
   "metadata": {},
   "outputs": [
    {
     "name": "stdout",
     "output_type": "stream",
     "text": [
      "วันที่มูลค่าหุ้นขึ้นไปสูงสุด คือวันที่ : 2021-09-01 00:00:00 ---> ที่ราคา : 384.3299865722656\n"
     ]
    }
   ],
   "source": [
    "D = df.index\n",
    "H =df['High']\n",
    "Min = max(H)\n",
    "for i in range(len(H)):\n",
    "    if Min == H[i]:\n",
    "        print (\"วันที่มูลค่าหุ้นขึ้นไปสูงสุด คือวันที่ :\",D[i],\"---> ที่ราคา :\",H[i])"
   ]
  },
  {
   "cell_type": "code",
   "execution_count": 10,
   "id": "4c23d7f7",
   "metadata": {},
   "outputs": [
    {
     "name": "stdout",
     "output_type": "stream",
     "text": [
      "มูลค่าเฉลี่ยของหุ้นต่อเดือน :\n",
      " Date\n",
      "2021-01-01    258.329987\n",
      "2021-02-01    257.619995\n",
      "2021-03-01    294.529999\n",
      "2021-04-01    325.079987\n",
      "2021-05-01    328.730011\n",
      "2021-06-01    347.709991\n",
      "2021-07-01    356.299988\n",
      "2021-08-01    379.380005\n",
      "2021-09-01    339.390015\n",
      "2021-10-01    323.570007\n",
      "2021-11-01    324.459991\n",
      "2021-12-01    330.450012\n",
      "2021-12-23    335.239990\n",
      "Name: Adj Close, dtype: float64\n",
      "\n",
      "มูลค่าเฉลี่ยของหุ้น facebook ตั้งแต่วันที่ 01/01/2021 ถึงวันที่ปัจจุบัน : 323.137690617488\n"
     ]
    }
   ],
   "source": [
    "import pandas_datareader.data as web\n",
    "# d w m  y\n",
    "data = web.get_data_yahoo('fb','01/01/2021',interval='m')\n",
    "A = data['Adj Close']\n",
    "print (\"มูลค่าเฉลี่ยของหุ้นต่อเดือน :\\n\",A)\n",
    "print (\"\\nมูลค่าเฉลี่ยของหุ้น facebook ตั้งแต่วันที่ 01/01/2021 ถึงวันที่ปัจจุบัน :\",sum(A)/len(A))"
   ]
  },
  {
   "cell_type": "code",
   "execution_count": null,
   "id": "ee1d3f4f",
   "metadata": {},
   "outputs": [],
   "source": []
  }
 ],
 "metadata": {
  "kernelspec": {
   "display_name": "Python 3",
   "language": "python",
   "name": "python3"
  },
  "language_info": {
   "codemirror_mode": {
    "name": "ipython",
    "version": 3
   },
   "file_extension": ".py",
   "mimetype": "text/x-python",
   "name": "python",
   "nbconvert_exporter": "python",
   "pygments_lexer": "ipython3",
   "version": "3.8.8"
  }
 },
 "nbformat": 4,
 "nbformat_minor": 5
}
